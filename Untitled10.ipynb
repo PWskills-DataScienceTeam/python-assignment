{
  "nbformat": 4,
  "nbformat_minor": 0,
  "metadata": {
    "colab": {
      "provenance": []
    },
    "kernelspec": {
      "name": "python3",
      "display_name": "Python 3"
    },
    "language_info": {
      "name": "python"
    }
  },
  "cells": [
    {
      "cell_type": "markdown",
      "source": [
        "1. what is AI?\n",
        " - Ai is arificial inteligence\n",
        "\n",
        "2. whatb is LLM?\n",
        " - Large language model"
      ],
      "metadata": {
        "id": "2g0WyB01rdqh"
      }
    },
    {
      "cell_type": "markdown",
      "source": [
        "3. write python program \"hello world\"?"
      ],
      "metadata": {
        "id": "1iIbA3IQrLLX"
      }
    },
    {
      "cell_type": "code",
      "execution_count": null,
      "metadata": {
        "id": "mvxTdyrUrIsW"
      },
      "outputs": [],
      "source": [
        "print(\"hello world!!\")"
      ]
    },
    {
      "cell_type": "markdown",
      "source": [
        "4. what is RAG?\n",
        "- retrival augmented generation"
      ],
      "metadata": {
        "id": "uBBV54vGrru0"
      }
    },
    {
      "cell_type": "code",
      "source": [],
      "metadata": {
        "id": "Q4X-dDJrrwAx"
      },
      "execution_count": null,
      "outputs": []
    }
  ]
}